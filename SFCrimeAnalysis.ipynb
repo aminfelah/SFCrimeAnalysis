{
 "cells": [
  {
   "cell_type": "markdown",
   "metadata": {},
   "source": [
    "## San Francisco crime data analysis and travel tips recommondation"
   ]
  },
  {
   "cell_type": "markdown",
   "metadata": {},
   "source": [
    "#### Using Spark SQL for big data analysis on SF crime data and travel tips recommondation\n",
    "data are public available and can be download via (https://data.sfgov.org/Public-Safety/sf-data/skgt-fej3/data)"
   ]
  },
  {
   "cell_type": "markdown",
   "metadata": {},
   "source": [
    "Author: Jiaxi Gao | gaojiaxi2015@gmail.com"
   ]
  },
  {
   "cell_type": "markdown",
   "metadata": {},
   "source": [
    "- <a href='#1'>1. Introduction</a>\n",
    "    - <a href='#1.1'>1.1. Target Overview</a>\n",
    "    - <a href='#1.2'>1.2. Tools and Libraries</a>\n",
    "\n",
    "- <a href='#2'>2. Exploratory SF Crime Data Analysis and Travel Safety Tips</a>\n",
    "    - <a href='#2.1'>2.1. Data Overview</a>\n",
    "    - <a href='#2.2'>2.2. Number of crime for each category</a>\n",
    "    - <a href='#2.3'>2.3. Number of crime for each Sunday</a>\n",
    "    - <a href='#2.4'>2.4. Number of crime in each month</a>\n",
    "    - <a href='#2.5'>2.5. Number of crime on Christmas holiday</a>\n",
    "    - <a href='#2.6'>2.6. Top-3 dangerous district and the corresponding most frequent types of crimes</a>\n",
    "    - <a href='#2.7'>2.7. Resolution of Unsolved crime cases</a>\n",
    "    - <a href='#2.8'>2.8. My conslusion for travel in SF</a>\n",
    "    \n",
    "- <a href='#3'>3. Venue Recommandation</a>\n",
    "    - <a href='#3.1'>3.1. Hotel Booking Recommandation</a>\n",
    "    - <a href='#3.2'>3.2. Venue Exploring and Recommandation using Foursquare API</a>\n",
    "\n",
    "- <a href='#4'>4. Conclusion</a>"
   ]
  },
  {
   "cell_type": "markdown",
   "metadata": {},
   "source": [
    "# <a id='1'>1. Introduction</a>"
   ]
  },
  {
   "cell_type": "markdown",
   "metadata": {},
   "source": [
    "### <a id='1.1'>1.1. Target overview</a>"
   ]
  },
  {
   "cell_type": "markdown",
   "metadata": {},
   "source": [
    "In this notebook we are going to analyse San Francisco crime data from 2003 to 2018. The aim of this notebook is providing residents in SF and tourists with travel safety tips and business insights based on modeling and analysis of most common types of crime, top dangerous neighbourhoods, and resolved/unresolved rates for different types of crimes etc. In addition, we aim to provide tourists with some venues they may visit during their trip in SF using the social location service platforms such as Yelp API or Foursquare API. The venues we recommand will located in safe neighborhood in SF and will have high positive reviews by other customers."
   ]
  },
  {
   "cell_type": "markdown",
   "metadata": {},
   "source": [
    "### <a id='1.2'>1.2. Tools and Libraries</a>"
   ]
  },
  {
   "cell_type": "markdown",
   "metadata": {},
   "source": [
    "We will use <span style=\"color:red\">Spark</span> and <span style=\"color:red\">Spark SQL</span> to perform big data analysis as it is designed for analysis Massive data sets in a distributed fashion.\n",
    "We will use <span style=\"color:red\">Foursquare API</span> to perform venue recommandations. The doc for Foursquare API can be found using this [link](https://developer.foursquare.com/)"
   ]
  },
  {
   "cell_type": "markdown",
   "metadata": {},
   "source": [
    "# <a id='2'>2. Exploratory SF Crime Data Analysis and Travel Safety Tips</a>"
   ]
  },
  {
   "cell_type": "markdown",
   "metadata": {},
   "source": [
    "### <a id='2.1'>2.1. Data Overview</a>"
   ]
  },
  {
   "cell_type": "code",
   "execution_count": 1,
   "metadata": {},
   "outputs": [],
   "source": [
    "from csv import reader\n",
    "from pyspark import SparkContext\n",
    "from pyspark.sql import Row \n",
    "from pyspark.sql import SparkSession\n",
    "from pyspark.sql.types import *\n",
    "from pyspark.sql.functions import to_date, to_timestamp, year, month, dayofmonth, hour, minute\n",
    "from pyspark.sql.functions import udf, lit\n",
    "import pyspark.sql.functions as fn\n",
    "import pandas as pd\n",
    "import numpy as np\n",
    "import seaborn as sb\n",
    "import matplotlib.pyplot as plt\n",
    "import warnings\n",
    "import math\n",
    "from ggplot import *\n",
    "\n",
    "import os\n"
   ]
  },
  {
   "cell_type": "code",
   "execution_count": 2,
   "metadata": {},
   "outputs": [],
   "source": [
    "sc = SparkContext(\"local\", \"CrimeAnalysis\")"
   ]
  },
  {
   "cell_type": "code",
   "execution_count": 3,
   "metadata": {},
   "outputs": [],
   "source": [
    "#import urllib.request\n",
    "#urllib.request.urlretrieve(\"https://data.sfgov.org/api/views/tmnf-yvry/rows.csv?accessType=DOWNLOAD\", \"./data/sf_03_18.csv\")"
   ]
  },
  {
   "cell_type": "code",
   "execution_count": 4,
   "metadata": {},
   "outputs": [],
   "source": [
    "data_path = \"./data/sf_03_18.csv\""
   ]
  },
  {
   "cell_type": "code",
   "execution_count": 5,
   "metadata": {},
   "outputs": [
    {
     "name": "stdout",
     "output_type": "stream",
     "text": [
      "['IncidntNum', 'Category', 'Descript', 'DayOfWeek', 'Date', 'Time', 'PdDistrict', 'Resolution', 'Address', 'X', 'Y', 'Location', 'PdId']\n",
      " The crimes dataframe has 2215024 records\n"
     ]
    }
   ],
   "source": [
    "#Read data from the data storage\n",
    "#Split the header by its separator\n",
    "crime_data_lines = sc.textFile(data_path)\n",
    "#prepare data: remove \"\n",
    "df_crimes = crime_data_lines.map(lambda line: [x.strip('\"') for x in next(reader([line]))])\n",
    "#get header\n",
    "header = df_crimes.first()\n",
    "print(header)\n",
    "\n",
    "#remove the first line of data\n",
    "crimes = df_crimes.filter(lambda x: x != header)\n",
    "\n",
    "#get the total number of data \n",
    "print(\" The crimes dataframe has {} records\".format(crimes.count()))\n"
   ]
  },
  {
   "cell_type": "code",
   "execution_count": 6,
   "metadata": {},
   "outputs": [
    {
     "name": "stdout",
     "output_type": "stream",
     "text": [
      "+----------+--------------------+--------------------+---------+----------+-----+----------+--------------------+--------------------+-----------------+----------------+--------------------+--------------+\n",
      "|IncidntNum|            Category|            Descript|DayOfWeek|      Date| Time|PdDistrict|          Resolution|             Address|                X|               Y|            Location|          PdId|\n",
      "+----------+--------------------+--------------------+---------+----------+-----+----------+--------------------+--------------------+-----------------+----------------+--------------------+--------------+\n",
      "| 110308742|      MISSING PERSON|        FOUND PERSON|   Friday|04/15/2011|16:00|   TARAVAL|             LOCATED|0 Block of CRESPI DR|-122.476327815126|37.7196874952717|POINT (-122.47632...|11030874275000|\n",
      "| 090316914|            WARRANTS|      WARRANT ARREST| Thursday|03/26/2009|12:28|  SOUTHERN|      ARREST, BOOKED|1000 Block of MAR...|-122.411339562557|37.7812707434494|POINT (-122.41133...| 9031691463010|\n",
      "| 130132311|     SECONDARY CODES|   DOMESTIC VIOLENCE|   Friday|02/15/2013|02:00|      PARK|      ARREST, BOOKED|CASTRO ST / MARKE...|-122.435187699349|37.7626702770872|POINT (-122.43518...|13013231115200|\n",
      "| 080052833|      OTHER OFFENSES|DRIVERS LICENSE, ...|  Tuesday|01/15/2008|20:13|   MISSION|       ARREST, CITED|VALENCIA ST / 16T...|-122.421886357981|37.7649178909424|POINT (-122.42188...| 8005283365016|\n",
      "| 070535770|     SECONDARY CODES|   DOMESTIC VIOLENCE| Saturday|05/26/2007|18:10|   MISSION|      ARREST, BOOKED|2800 Block of FOL...|-122.413935404044|37.7516932889916|POINT (-122.41393...| 7053577015200|\n",
      "| 130407330|      OTHER OFFENSES|   TRAFFIC VIOLATION|   Friday|05/17/2013|21:56|  SOUTHERN|       ARREST, CITED|500 Block of STEV...|-122.410793915482| 37.780832063096|POINT (-122.41079...|13040733065015|\n",
      "| 136080803|       LARCENY/THEFT|GRAND THEFT FROM ...|   Sunday|04/07/2013|12:30|  SOUTHERN|                NONE|800 Block of BRYA...|-122.403404791479| 37.775420706711|POINT (-122.40340...|13608080306244|\n",
      "| 071177357|FORGERY/COUNTERFE...|FORGERY, DRIVERS ...|   Friday|11/16/2007|17:00|  NORTHERN|PROSECUTED BY OUT...|2500 Block of VAN...|-122.423907410647|37.7990497607213|POINT (-122.42390...| 7117735709120|\n",
      "| 060606109|       LARCENY/THEFT|PETTY THEFT FROM ...|Wednesday|06/07/2006|19:45|  NORTHERN|                NONE|BUSH ST / BUCHANA...|-122.430170528945|37.7874391353148|POINT (-122.43017...| 6060610906243|\n",
      "| 050719825|             ASSAULT|BATTERY OF A POLI...|  Tuesday|06/28/2005|01:02|   BAYVIEW|      ARREST, BOOKED|NAPOLEON ST / EVA...|-122.396010154392|37.7472622922111|POINT (-122.39601...| 5071982504154|\n",
      "+----------+--------------------+--------------------+---------+----------+-----+----------+--------------------+--------------------+-----------------+----------------+--------------------+--------------+\n",
      "\n"
     ]
    }
   ],
   "source": [
    "from pyspark.sql import SparkSession\n",
    "spark = SparkSession \\\n",
    "    .builder \\\n",
    "    .appName(\"CrimeAnalysis\") \\\n",
    "    .config(\"spark.some.config.option\", \"some-value\") \\\n",
    "    .getOrCreate()\n",
    "\n",
    "#Load .csv\n",
    "df_opt1 = spark.read.format(\"csv\").option(\"header\", \"true\").load(data_path)\n",
    "\n",
    "#create temp table\n",
    "df_opt1.createOrReplaceTempView(\"sf_crime\")\n",
    "\n",
    "#display first 10 rows\n",
    "first_ten_rows = spark.sql(\"SELECT * FROM sf_crime LIMIT 10\")\n",
    "first_ten_rows.show()\n"
   ]
  },
  {
   "cell_type": "code",
   "execution_count": 7,
   "metadata": {},
   "outputs": [],
   "source": [
    "#display(first_ten_rows)\n"
   ]
  },
  {
   "cell_type": "markdown",
   "metadata": {},
   "source": [
    "### <a id='2.2'>2.2. Number of crime for each category</a>"
   ]
  },
  {
   "cell_type": "code",
   "execution_count": 8,
   "metadata": {},
   "outputs": [
    {
     "name": "stdout",
     "output_type": "stream",
     "text": [
      "+--------------------+------+\n",
      "|            category| count|\n",
      "+--------------------+------+\n",
      "|       LARCENY/THEFT|480448|\n",
      "|      OTHER OFFENSES|309358|\n",
      "|        NON-CRIMINAL|238323|\n",
      "|             ASSAULT|194694|\n",
      "|       VEHICLE THEFT|126602|\n",
      "|       DRUG/NARCOTIC|119628|\n",
      "|           VANDALISM|116059|\n",
      "|            WARRANTS|101379|\n",
      "|            BURGLARY| 91543|\n",
      "|      SUSPICIOUS OCC| 80444|\n",
      "|      MISSING PERSON| 64961|\n",
      "|             ROBBERY| 55867|\n",
      "|               FRAUD| 41542|\n",
      "|     SECONDARY CODES| 25831|\n",
      "|FORGERY/COUNTERFE...| 23050|\n",
      "|         WEAPON LAWS| 22234|\n",
      "|            TRESPASS| 19449|\n",
      "|        PROSTITUTION| 16701|\n",
      "|     STOLEN PROPERTY| 11891|\n",
      "|SEX OFFENSES, FOR...| 11742|\n",
      "+--------------------+------+\n",
      "only showing top 20 rows\n",
      "\n"
     ]
    }
   ],
   "source": [
    "s1_result = df_opt1.groupBy('category').count().orderBy('count', ascending=False)\n",
    "\n",
    "#display result\n",
    "s1_result.show()"
   ]
  },
  {
   "cell_type": "code",
   "execution_count": 9,
   "metadata": {},
   "outputs": [
    {
     "name": "stdout",
     "output_type": "stream",
     "text": [
      "+--------------------+------+\n",
      "|            category| count|\n",
      "+--------------------+------+\n",
      "|       LARCENY/THEFT|480448|\n",
      "|      OTHER OFFENSES|309358|\n",
      "|        NON-CRIMINAL|238323|\n",
      "|             ASSAULT|194694|\n",
      "|       VEHICLE THEFT|126602|\n",
      "|       DRUG/NARCOTIC|119628|\n",
      "|           VANDALISM|116059|\n",
      "|            WARRANTS|101379|\n",
      "|            BURGLARY| 91543|\n",
      "|      SUSPICIOUS OCC| 80444|\n",
      "|      MISSING PERSON| 64961|\n",
      "|             ROBBERY| 55867|\n",
      "|               FRAUD| 41542|\n",
      "|     SECONDARY CODES| 25831|\n",
      "|FORGERY/COUNTERFE...| 23050|\n",
      "|         WEAPON LAWS| 22234|\n",
      "|            TRESPASS| 19449|\n",
      "|        PROSTITUTION| 16701|\n",
      "|     STOLEN PROPERTY| 11891|\n",
      "|SEX OFFENSES, FOR...| 11742|\n",
      "+--------------------+------+\n",
      "only showing top 20 rows\n",
      "\n"
     ]
    }
   ],
   "source": [
    "#Spark SQL based\n",
    "##in descending order\n",
    "crimeCategory_desc = spark.sql('''\n",
    "                SELECT category, COUNT(*) AS count \n",
    "                FROM sf_crime \n",
    "                GROUP BY category \n",
    "                ORDER BY count DESC''')\n",
    "\n",
    "#display result\n",
    "crimeCategory_desc.show()"
   ]
  },
  {
   "cell_type": "code",
   "execution_count": 10,
   "metadata": {},
   "outputs": [
    {
     "name": "stdout",
     "output_type": "stream",
     "text": [
      "+--------------------+-----+\n",
      "|            category|count|\n",
      "+--------------------+-----+\n",
      "|                TREA|   14|\n",
      "|PORNOGRAPHY/OBSCE...|   59|\n",
      "|            GAMBLING|  348|\n",
      "|SEX OFFENSES, NON...|  431|\n",
      "|           EXTORTION|  741|\n",
      "|             BRIBERY|  813|\n",
      "|          BAD CHECKS|  925|\n",
      "|     FAMILY OFFENSES| 1183|\n",
      "|             SUICIDE| 1292|\n",
      "|           LOITERING| 2430|\n",
      "|        EMBEZZLEMENT| 2988|\n",
      "|               ARSON| 3931|\n",
      "|         LIQUOR LAWS| 4083|\n",
      "|             RUNAWAY| 4440|\n",
      "|          KIDNAPPING| 5346|\n",
      "|DRIVING UNDER THE...| 5672|\n",
      "|   RECOVERED VEHICLE| 8716|\n",
      "|         DRUNKENNESS| 9826|\n",
      "|  DISORDERLY CONDUCT|10040|\n",
      "|SEX OFFENSES, FOR...|11742|\n",
      "+--------------------+-----+\n",
      "only showing top 20 rows\n",
      "\n"
     ]
    }
   ],
   "source": [
    "#Spark SQL based\n",
    "##in ascending order\n",
    "crimeCategory_desc = spark.sql('''\n",
    "                SELECT category, COUNT(*) AS count \n",
    "                FROM sf_crime \n",
    "                GROUP BY category \n",
    "                ORDER BY count ASC''')\n",
    "\n",
    "#display result\n",
    "crimeCategory_desc.show()"
   ]
  },
  {
   "cell_type": "markdown",
   "metadata": {},
   "source": [
    "#### Observation:\n",
    "Larceny/Theft category was reported the most, whereas TREA has the lowest count in SF area.\n",
    "In addition, we can see that VEHICLE THEFT ranked 4th in among all types of crimes, it may suggest that it is not safe to rent a car to travel in San Francisco."
   ]
  },
  {
   "cell_type": "markdown",
   "metadata": {},
   "source": [
    "### <a id='2.3'>2.3. Number of crime for each Sunday at SF Downtown</a>  "
   ]
  },
  {
   "cell_type": "code",
   "execution_count": 11,
   "metadata": {},
   "outputs": [
    {
     "name": "stdout",
     "output_type": "stream",
     "text": [
      "+----------+-------------+\n",
      "|      Date|num_of_crimes|\n",
      "+----------+-------------+\n",
      "|01/01/2006|        14227|\n",
      "|04/13/2014|        12163|\n",
      "|05/25/2014|        10763|\n",
      "|11/23/2014|         9488|\n",
      "|11/24/2013|         9212|\n",
      "|01/16/2011|         9116|\n",
      "|04/21/2013|         9109|\n",
      "|10/27/2013|         8890|\n",
      "|08/03/2014|         8874|\n",
      "|08/24/2003|         8771|\n",
      "|10/18/2015|         8710|\n",
      "|01/25/2015|         8523|\n",
      "|12/07/2003|         8253|\n",
      "|09/12/2010|         8176|\n",
      "|05/15/2016|         8140|\n",
      "|01/01/2012|         8125|\n",
      "|07/06/2014|         8097|\n",
      "|07/26/2009|         8061|\n",
      "|10/24/2010|         7770|\n",
      "|09/02/2012|         7627|\n",
      "+----------+-------------+\n",
      "only showing top 20 rows\n",
      "\n"
     ]
    }
   ],
   "source": [
    "##google search appears SF downtown (financial district)'s coordinates to be: 37.7946° N, 122.3999° W\n",
    "##therefore, we can assume SF downtown is centered at 37.7946° N, 122.3999° W\n",
    "##within a range of 1.19 square kilometers (approx. 119ha) is called 'SF downtown' / largest distance to the center point: (1.19/3.14)**0.5 = 0.616 km\n",
    "##assume 1° ≈ 111 km at longitude & latitude\n",
    "\n",
    "#obtain longitude & latitude\n",
    "crimesSFdt_x = spark.sql(\"SELECT DayOfWeek, Date, Address, X FROM sf_crime\")\n",
    "crimesSFdt_y = spark.sql(\"SELECT DayOfWeek, Date, Address, Y FROM sf_crime\")\n",
    "#crimesSFdt_x.show()\n",
    "#crimesSFdt_y.show()\n",
    "\n",
    "from pyspark.sql.types import FloatType\n",
    "\n",
    "def x_square_float(x):\n",
    "    return ((float(x)-(-122.3999))*111)**2 \n",
    "\n",
    "x_square_udf_float = udf(lambda z: x_square_float(z), FloatType())\n",
    "crimes3_df = crimesSFdt_x.select('DayOfWeek', 'Date', 'Address', 'X', x_square_udf_float('X').alias('x_float_squared'))\n",
    "#crimes3_df.show()\n",
    "\n",
    "#convert to Pandas dataframe\n",
    "#crimes3_pd_df = crimes3_df.toPandas()\n",
    "#display(crimes3_pd_df)\n",
    "\n",
    "def y_square_float(y):\n",
    "    return ((float(y)-37.7946)*111)**2 \n",
    "\n",
    "y_square_udf_float = udf(lambda z: y_square_float(z), FloatType())\n",
    "crimes4_df = crimesSFdt_y.select('DayOfWeek', 'Date', 'Address', 'Y', y_square_udf_float('Y').alias('y_float_squared'))\n",
    "#crimes4_df.show()\n",
    "\n",
    "#convert to Pandas dataframe\n",
    "#crimes4_pd_df = crimes4_df.toPandas()\n",
    "#display(crimes4_pd_df)\n",
    "\n",
    "#Create temporary table called df3, df4\n",
    "crimes3_df.createOrReplaceTempView(\"df3\")\n",
    "crimes4_df.createOrReplaceTempView(\"df4\")\n",
    "\n",
    "#write spark.SQL subquery to retrieve distance\n",
    "crimesSFdt = spark.sql('''SELECT dt.Date, COUNT(distance) AS num_of_crimes \n",
    "                       FROM ( \n",
    "                         SELECT df3.DayOfWeek, df3.Date, df3.Address, SQRT(df3.x_float_squared + df4.y_float_squared) as distance \n",
    "                         FROM df3 \n",
    "                         INNER JOIN df4 \n",
    "                         ON df3.address = df4.address \n",
    "                         WHERE df3.DayOfWeek = 'Sunday' \n",
    "                       ) AS dt \n",
    "                       WHERE dt.distance < 0.616 \n",
    "                       GROUP BY dt.Date \n",
    "                       ORDER BY num_of_crimes DESC''')\n",
    "\n",
    "#display result\n",
    "crimesSFdt.show()"
   ]
  },
  {
   "cell_type": "markdown",
   "metadata": {},
   "source": [
    "#### Observation:\n",
    "According to the above results, we can conclude that amongst all Sundays, on 01/01/2006 the number of crimes is at its highest level.\n",
    "It do make sense since 01/01/2006 appeared to be during New Year Holidays, and public holidays could be the main reason for rising number of crimes."
   ]
  },
  {
   "cell_type": "markdown",
   "metadata": {},
   "source": [
    "### <a id='2.4'>2.4. Number of crime in each month</a>\n",
    "###### Analysis the number of crime in each month of 2015, 2016, 2017.\n"
   ]
  },
  {
   "cell_type": "code",
   "execution_count": 12,
   "metadata": {},
   "outputs": [
    {
     "name": "stdout",
     "output_type": "stream",
     "text": [
      "+----+-----+-------------+\n",
      "|year|month|num_of_crimes|\n",
      "+----+-----+-------------+\n",
      "|2015|    3|        13929|\n",
      "|2015|    8|        13730|\n",
      "|2015|    5|        13729|\n",
      "|2017|    3|        13711|\n",
      "|2015|    1|        13606|\n",
      "|2016|   10|        13388|\n",
      "|2015|    7|        13365|\n",
      "|2017|   10|        13355|\n",
      "|2015|    6|        13304|\n",
      "|2017|    5|        13267|\n",
      "|2017|    7|        13171|\n",
      "|2015|   10|        13147|\n",
      "|2017|    1|        13084|\n",
      "|2016|   12|        13007|\n",
      "|2016|    1|        12967|\n",
      "|2015|    4|        12959|\n",
      "|2017|    4|        12941|\n",
      "|2015|    9|        12896|\n",
      "|2017|    8|        12872|\n",
      "|2016|    5|        12732|\n",
      "+----+-----+-------------+\n",
      "only showing top 20 rows\n",
      "\n"
     ]
    }
   ],
   "source": [
    "#Spark SQL based - Soulution for Q4\n",
    "#counts the number of crimes in each month of 2014, 2015, 2016, 2017\n",
    "\n",
    "#format the date MM/dd/yyyyy to YYYY-MM-DD \n",
    "crimeInYearMonth = spark.sql(\"SELECT year(to_date(date, 'MM/dd/yyyy')) as year, \\\n",
    "                                     month(to_date(date, 'MM/dd/yyyy')) as month, \\\n",
    "                                     COUNT(*) as num_of_crimes \\\n",
    "                              FROM sf_crime \\\n",
    "                              GROUP BY year, month \\\n",
    "                              HAVING year in (2015, 2016, 2017, 2018) \\\n",
    "                              ORDER BY num_of_crimes DESC\")\n",
    "                             \n",
    "#display result\n",
    "crimeInYearMonth.show()"
   ]
  },
  {
   "cell_type": "markdown",
   "metadata": {},
   "source": [
    "###### Analysis the number of crime in each month FROM 2003-2018"
   ]
  },
  {
   "cell_type": "code",
   "execution_count": 13,
   "metadata": {},
   "outputs": [
    {
     "name": "stdout",
     "output_type": "stream",
     "text": [
      "+-----+-------------+\n",
      "|month|num_of_crimes|\n",
      "+-----+-------------+\n",
      "|    1|       197584|\n",
      "|    3|       197580|\n",
      "|   10|       190470|\n",
      "|    4|       189834|\n",
      "|    5|       187747|\n",
      "|    8|       187379|\n",
      "|    9|       183437|\n",
      "|    7|       181822|\n",
      "|    2|       178619|\n",
      "|   11|       175032|\n",
      "|    6|       174744|\n",
      "|   12|       170776|\n",
      "+-----+-------------+\n",
      "\n"
     ]
    }
   ],
   "source": [
    "#counts the number of crimes in each month FROM 2003-2018\n",
    "\n",
    "#format the date MM/dd/yyyyy to YYYY-MM-DD \n",
    "crimeInYearMonth = spark.sql(\"SELECT month(to_date(date, 'MM/dd/yyyy')) as month, \\\n",
    "                                     COUNT(*) as num_of_crimes \\\n",
    "                              FROM sf_crime \\\n",
    "                              GROUP BY month\\\n",
    "                              ORDER BY num_of_crimes DESC\")\n",
    "                             \n",
    "#display result\n",
    "crimeInYearMonth.show()"
   ]
  },
  {
   "cell_type": "markdown",
   "metadata": {},
   "source": [
    "#### Observation:\n",
    "In year 2015-2018, number of crimes hit its highest level in January and hit its lowest level in December.\n",
    "I am pretty surprised since January is just next to December. In this case I will suggest travelers to visit SF at end of November since the crime rate in both November and December are low.\n",
    "In General, we suggest tourists to visit SF in December, June and November."
   ]
  },
  {
   "cell_type": "markdown",
   "metadata": {},
   "source": [
    "### <a id='2.5'>2.5. Number of crime on Christmas holiday</a>\n",
    "\n",
    "Since Christmas (or Feast of the Nativity) is the biggest holiday in a year and thousands of travelers around the world may come to SF during this day. So I analyse the number of crime w.r.t the hour in Christmas day of 2015,2016,2017."
   ]
  },
  {
   "cell_type": "code",
   "execution_count": 14,
   "metadata": {},
   "outputs": [
    {
     "name": "stdout",
     "output_type": "stream",
     "text": [
      "+----------+-------------+-------------+\n",
      "|      date|        hours|num_of_crimes|\n",
      "+----------+-------------+-------------+\n",
      "|12/25/2015|        night|           88|\n",
      "|12/25/2017|    afternoon|           84|\n",
      "|12/25/2015|    afternoon|           83|\n",
      "|12/25/2017|        night|           75|\n",
      "|12/25/2016|    afternoon|           70|\n",
      "|12/25/2017|      morning|           68|\n",
      "|12/25/2016|        night|           66|\n",
      "|12/25/2015|early morning|           61|\n",
      "|12/25/2016|      morning|           57|\n",
      "|12/25/2015|      morning|           48|\n",
      "|12/25/2017|early morning|           46|\n",
      "|12/25/2016|early morning|           35|\n",
      "+----------+-------------+-------------+\n",
      "\n"
     ]
    }
   ],
   "source": [
    "#Spark SQL based - Soulution for Q4\n",
    "#counts the number of crimes in each month of 2015, 2016, 2017\n",
    "\n",
    "crimesDate = spark.sql(\"SELECT res.date, res.hours, COUNT(*) as num_of_crimes \\\n",
    "                        FROM ( \\\n",
    "                               SELECT date, \\\n",
    "                                      CASE WHEN time BETWEEN '00:00' AND '06:00:00' THEN 'early morning' \\\n",
    "                                           WHEN time BETWEEN '06:00' AND '12:00:00' THEN 'morning' \\\n",
    "                                           WHEN time BETWEEN '12:00' AND '18:00:00' THEN 'afternoon' \\\n",
    "                                           WHEN time BETWEEN '18:00' AND '24:00:00' THEN 'night' \\\n",
    "                                      END AS hours \\\n",
    "                               FROM sf_crime \\\n",
    "                               WHERE date IN ('12/25/2015', '12/25/2016', '12/25/2017') \\\n",
    "                        ) AS res \\\n",
    "                        GROUP BY 1,2 \\\n",
    "                        ORDER BY num_of_crimes DESC\")\n",
    "\n",
    "#display result\n",
    "crimesDate.show()\n"
   ]
  },
  {
   "cell_type": "markdown",
   "metadata": {},
   "source": [
    "#### Observation:\n",
    "Analyzed the number of crime with respect to the hours in 12/25/2015, 12/25/2016; 12/25/2017: <br>early morning:between 00:00-6:00 ; <br>morning:between 6:00-12:00; <br> afternoon:between 12:00-18:00; <br>night:between 18:00-00:00;\n",
    "\n",
    "#### Travel tips to visit SF:\n",
    "In general, afternoon and night (between 12:00 and 00:00) have higher crime rates, whereas early morning and morning hours appear to be much safer.\n",
    "My suggestion for travelers who wanna visit San Francisco, avoid arriving at SF city later than 12PM and any night events.\n",
    "Instead, you should try to arrive SF on the day time and one day earlier and do sightseeing and shopping in the early morning or in the morning."
   ]
  },
  {
   "cell_type": "markdown",
   "metadata": {},
   "source": [
    "### <a id='2.6'>2.6. Top-3 dangerous district and the corresponding most frequent types of crimes</a>\n",
    "Analysis the top-3 dangerous district of SF and analyse the most frequent types of crimes in those district using following steps<br>\n",
    "(1) Step1: Find out the top-3 danger district  \n",
    "(2) Step2: Find out the crime event w.r.t category and time (hour) from the result of step 1  \n",
    "(3) Step3: Give my advice to distribute the police force based on the analysis results."
   ]
  },
  {
   "cell_type": "code",
   "execution_count": 15,
   "metadata": {},
   "outputs": [
    {
     "name": "stdout",
     "output_type": "stream",
     "text": [
      "+----------+------+\n",
      "|PdDistrict| Count|\n",
      "+----------+------+\n",
      "|  SOUTHERN|399785|\n",
      "|   MISSION|300076|\n",
      "|  NORTHERN|272713|\n",
      "|   CENTRAL|226255|\n",
      "|   BAYVIEW|221000|\n",
      "| INGLESIDE|194180|\n",
      "|TENDERLOIN|191746|\n",
      "|   TARAVAL|166971|\n",
      "|      PARK|125479|\n",
      "|  RICHMOND|116818|\n",
      "|      null|     1|\n",
      "+----------+------+\n",
      "\n"
     ]
    }
   ],
   "source": [
    "#(1) Step1: Find out the top-3 danger disrict  \n",
    "crimePdDistrict_desc = spark.sql('''\n",
    "    SELECT PdDistrict, COUNT(*) AS Count \n",
    "    FROM sf_crime \n",
    "    GROUP BY PdDistrict \n",
    "    ORDER BY Count DESC ''')\n",
    "\n",
    "crimePdDistrict_desc.show()\n",
    "\n",
    "#Top-3 danger district: Southern, Mission, and Norther"
   ]
  },
  {
   "cell_type": "code",
   "execution_count": 16,
   "metadata": {},
   "outputs": [
    {
     "name": "stdout",
     "output_type": "stream",
     "text": [
      "+--------------+----------+-------------+-------------+\n",
      "|      category|PdDistrict|        hours|num_of_crimes|\n",
      "+--------------+----------+-------------+-------------+\n",
      "| LARCENY/THEFT|  SOUTHERN|    afternoon|        41261|\n",
      "| LARCENY/THEFT|  SOUTHERN|        night|        39937|\n",
      "| LARCENY/THEFT|  NORTHERN|        night|        30390|\n",
      "| LARCENY/THEFT|  NORTHERN|    afternoon|        26616|\n",
      "| LARCENY/THEFT|  SOUTHERN|      morning|        21001|\n",
      "| LARCENY/THEFT|   MISSION|        night|        18147|\n",
      "|  NON-CRIMINAL|  SOUTHERN|    afternoon|        17250|\n",
      "|OTHER OFFENSES|  SOUTHERN|    afternoon|        17156|\n",
      "|OTHER OFFENSES|   MISSION|    afternoon|        15244|\n",
      "| LARCENY/THEFT|   MISSION|    afternoon|        15153|\n",
      "| LARCENY/THEFT|  NORTHERN|      morning|        14930|\n",
      "|OTHER OFFENSES|  SOUTHERN|        night|        14646|\n",
      "|  NON-CRIMINAL|  SOUTHERN|      morning|        13885|\n",
      "|OTHER OFFENSES|   MISSION|        night|        13095|\n",
      "|OTHER OFFENSES|  SOUTHERN|      morning|        12431|\n",
      "|  NON-CRIMINAL|  SOUTHERN|        night|        12299|\n",
      "|OTHER OFFENSES|   MISSION|      morning|        11561|\n",
      "| LARCENY/THEFT|  SOUTHERN|early morning|        11143|\n",
      "|  NON-CRIMINAL|   MISSION|    afternoon|        10727|\n",
      "|       ASSAULT|  SOUTHERN|    afternoon|         9796|\n",
      "+--------------+----------+-------------+-------------+\n",
      "only showing top 20 rows\n",
      "\n"
     ]
    }
   ],
   "source": [
    "#(2) Step2: find out the crime event w.r.t category and time (hour) from the result of step 1  \n",
    "\n",
    "##three districts were calculated respectively:\n",
    "crimes_in_top3 = spark.sql(\"SELECT res.category, \\\n",
    "                                   res.PdDistrict, \\\n",
    "                                   res.hours, \\\n",
    "                                   COUNT(*) as num_of_crimes \\\n",
    "                            FROM ( \\\n",
    "                                  SELECT category, PdDistrict, \\\n",
    "                                         CASE WHEN time BETWEEN '00:00' AND '06:00:00' THEN 'early morning' \\\n",
    "                                              WHEN time BETWEEN '06:00' AND '12:00:00' THEN 'morning' \\\n",
    "                                              WHEN time BETWEEN '12:00' AND '18:00:00' THEN 'afternoon' \\\n",
    "                                              WHEN time BETWEEN '18:00' AND '24:00:00' THEN 'night' \\\n",
    "                                         END AS hours \\\n",
    "                                  FROM sf_crime \\\n",
    "                                  WHERE PdDistrict IN ('SOUTHERN', 'MISSION', 'NORTHERN') \\\n",
    "                             ) AS res \\\n",
    "                             GROUP BY 1,2,3 \\\n",
    "                             ORDER BY num_of_crimes DESC\")\n",
    "\n",
    "#display result\n",
    "crimes_in_top3.show()"
   ]
  },
  {
   "cell_type": "markdown",
   "metadata": {},
   "source": [
    "Step3 My advice to SF police department: <br> From the above results, police force should be distributed primarily in Southern district, then Nothern district followed by Mission district as those three district are the top-3 district in terms of number of crimes. The police on duty at night should pay attention to LARCENY/THEFT; in the afternoon for OTHER OFFENSES. Residents and tourists in the city should avoid visiting dangerous area from 12:00 PM to midnight."
   ]
  },
  {
   "cell_type": "markdown",
   "metadata": {},
   "source": [
    "### <a id='2.7'>2.7. Resolution of Unsolved crime cases</a>\n",
    "For different category of crime, find the percentage of resolution. Based on the output, give hints to adjust the policy."
   ]
  },
  {
   "cell_type": "code",
   "execution_count": 17,
   "metadata": {},
   "outputs": [
    {
     "name": "stdout",
     "output_type": "stream",
     "text": [
      "+--------------------+------------------+-------------------+\n",
      "|            Category|       unsolved_pc|        resolved_pc|\n",
      "+--------------------+------------------+-------------------+\n",
      "|   RECOVERED VEHICLE|0.9308168884809546|0.06918311151904544|\n",
      "|       VEHICLE THEFT| 0.916099271733464|0.08390072826653608|\n",
      "|       LARCENY/THEFT|0.9114971859597709|0.08850281404022912|\n",
      "|      SUSPICIOUS OCC|0.8824275272239073|0.11757247277609269|\n",
      "|           VANDALISM|0.8779155429565997|0.12208445704340035|\n",
      "|            BURGLARY|0.8373441989010629|0.16265580109893713|\n",
      "|               ARSON|0.8074281353345205|0.19257186466547951|\n",
      "|          BAD CHECKS|0.8043243243243243|0.19567567567567568|\n",
      "|           EXTORTION|0.7786774628879892| 0.2213225371120108|\n",
      "|        NON-CRIMINAL|0.7756616021114202| 0.2243383978885798|\n",
      "|               FRAUD|0.7716768571566126|0.22832314284338742|\n",
      "|             ROBBERY|0.7711529167487068|0.22884708325129324|\n",
      "|             SUICIDE| 0.760061919504644|0.23993808049535603|\n",
      "|        EMBEZZLEMENT|0.7185408299866132| 0.2814591700133869|\n",
      "|FORGERY/COUNTERFE...|0.6268546637744035|0.37314533622559654|\n",
      "|             ASSAULT|0.5842347478607456| 0.4157652521392544|\n",
      "|SEX OFFENSES, FOR...| 0.582950093680804|0.41704990631919603|\n",
      "|     FAMILY OFFENSES|0.5748098055790364| 0.4251901944209637|\n",
      "|     SECONDARY CODES|0.5681158298168867| 0.4318841701831133|\n",
      "|PORNOGRAPHY/OBSCE...| 0.559322033898305| 0.4406779661016949|\n",
      "+--------------------+------------------+-------------------+\n",
      "only showing top 20 rows\n",
      "\n"
     ]
    }
   ],
   "source": [
    "#write subqueries tb1 & tb2 to obtain results where resolution is None(\"Unresolved\") or else(\"resolved\")\n",
    "#left join two tables together\n",
    "#calculate percentage of resolution\n",
    "#cnt_un/(cnt_un+cnt_re) is the percentage of unresolved crimes, saved as unsolved_pc\n",
    "#cnt_re/(cnt_un+cnt_re) is the percentage of resolved crimes, saved as resolved_pc\n",
    "\n",
    "crimeCategoryPercentage = spark.sql(\"SELECT tb3.Category, \\\n",
    "                                            cnt_un/(cnt_un+cnt_re) as unsolved_pc, \\\n",
    "                                            cnt_re/(cnt_un+cnt_re) as resolved_pc \\\n",
    "                                     FROM ( \\\n",
    "                                           SELECT tb1.Category, cnt_un, cnt_re \\\n",
    "                                           FROM( \\\n",
    "                                                SELECT Category, COUNT(resolved_or_not) as cnt_un \\\n",
    "                                                FROM (\\\n",
    "                                                      SELECT Category, \\\n",
    "                                                             CASE WHEN Resolution LIKE 'NONE' THEN 'unresolved' \\\n",
    "                                                             ELSE 'resolved' \\\n",
    "                                                             END AS resolved_or_not \\\n",
    "                                                      FROM sf_crime) \\\n",
    "                                                      WHERE resolved_or_not = 'unresolved' \\\n",
    "                                                      GROUP BY Category \\\n",
    "                                                 ) tb1 \\\n",
    "                                           LEFT JOIN \\\n",
    "                                           (SELECT Category, COUNT(resolved_or_not) as cnt_re \\\n",
    "                                            FROM ( \\\n",
    "                                                  SELECT Category, \\\n",
    "                                                         CASE WHEN Resolution LIKE 'NONE' THEN 'unresolved' \\\n",
    "                                                         ELSE'resolved' \\\n",
    "                                                         END AS resolved_or_not \\\n",
    "                                                  FROM sf_crime) \\\n",
    "                                                  WHERE resolved_or_not = 'resolved' \\\n",
    "                                                  GROUP BY Category \\\n",
    "                                           ) tb2 \\\n",
    "                                           ON tb1.Category = tb2.Category \\\n",
    "                                    ) tb3 \\\n",
    "                                    ORDER BY unsolved_pc DESC\")\n",
    " \n",
    "#display result\n",
    "crimeCategoryPercentage.show()\n"
   ]
  },
  {
   "cell_type": "markdown",
   "metadata": {},
   "source": [
    "#### Suggestions to adjust the policy:\n",
    "1) Police force should focus more on cimes like RECOVERED VEHICLE, VEHICLE THEFT, and LARCENY/THEFT since these three categories have the highest 'unresolved' percentages.\n",
    "\n",
    "2) RECOVERED VEHICLE, VEHICLE THEFT are the Top-2 unresolved crimes, which indicates that crimes related to vehicles require additional attention from the police department.\n",
    "\n",
    "3) Police should take some actions to raise the awareness of vehicle owners, as a result of common vehicles safty/security issues."
   ]
  },
  {
   "cell_type": "markdown",
   "metadata": {},
   "source": [
    "### <a id='2.8'>2.8. My tips for tourists in SF</a>"
   ]
  },
  {
   "cell_type": "markdown",
   "metadata": {},
   "source": [
    "#### Travel tips to visit SF:\n",
    "Based on the previous results:\n",
    "<br>Tourists should avoid visiting SF on Public Holidays. \n",
    "<br>Tourists should arrange most of their events and sightseeing in the morning or afternoon.\n",
    "<br>Tourists should consider booking hotels in PARK district or RICHMOND district and avoid living in SOUTHERN district and MISSION district. \n",
    "<br>Tourists should pay attention to their vehicle and try not to leave any valuables in the vehicle since there are many unsolved VEHICLE related crimes in SF.\n",
    "\n"
   ]
  },
  {
   "cell_type": "markdown",
   "metadata": {},
   "source": [
    "# <a id='3'>3. Venue Recommandation</a>"
   ]
  },
  {
   "cell_type": "markdown",
   "metadata": {},
   "source": [
    "### <a id='3.1'>3.1. Hotel Booking Recommadation</a>"
   ]
  },
  {
   "cell_type": "code",
   "execution_count": 18,
   "metadata": {},
   "outputs": [
    {
     "name": "stdout",
     "output_type": "stream",
     "text": [
      "+----------+------+\n",
      "|PdDistrict| Count|\n",
      "+----------+------+\n",
      "|  SOUTHERN|399785|\n",
      "|   MISSION|300076|\n",
      "|  NORTHERN|272713|\n",
      "|   CENTRAL|226255|\n",
      "|   BAYVIEW|221000|\n",
      "| INGLESIDE|194180|\n",
      "|TENDERLOIN|191746|\n",
      "|   TARAVAL|166971|\n",
      "|      PARK|125479|\n",
      "|  RICHMOND|116818|\n",
      "|      null|     1|\n",
      "+----------+------+\n",
      "\n"
     ]
    }
   ],
   "source": [
    "##in descending order\n",
    "crimePdDistrict_desc = spark.sql(\n",
    "    '''SELECT PdDistrict, COUNT(*) AS Count \n",
    "    FROM sf_crime \n",
    "    GROUP BY PdDistrict \n",
    "    ORDER BY Count DESC''')\n",
    "\n",
    "#display result\n",
    "crimePdDistrict_desc.show()"
   ]
  },
  {
   "cell_type": "markdown",
   "metadata": {},
   "source": [
    "#### Observation:\n",
    "Southern Pd District has the highest number of crimes, whereas crimes in Richmond are the lowest.\n",
    "Thus I will avoid book hotels in Southern district as it is the most dangerous district.\n",
    "I will suggest book hotels in Richmond district as it is the safest district."
   ]
  },
  {
   "cell_type": "markdown",
   "metadata": {},
   "source": [
    "### <a id='3.2'>3.2. Venue Recommadation</a>"
   ]
  },
  {
   "cell_type": "markdown",
   "metadata": {},
   "source": [
    "#### Following 3.1, Since we decided to book an hotel in Central Richmond, we will explore some venues in Richmond distict using Foursquare API."
   ]
  },
  {
   "cell_type": "markdown",
   "metadata": {},
   "source": [
    "##### google search appears the Central Richmond, SF have an latitude = 37.780786 and an longitude = -122.483570"
   ]
  },
  {
   "cell_type": "code",
   "execution_count": 19,
   "metadata": {},
   "outputs": [],
   "source": [
    "latitude = 37.780786 \n",
    "longitude = -122.483570"
   ]
  },
  {
   "cell_type": "markdown",
   "metadata": {},
   "source": [
    "##### add my credentials inorder to use Foursquare API"
   ]
  },
  {
   "cell_type": "code",
   "execution_count": 35,
   "metadata": {},
   "outputs": [
    {
     "name": "stdout",
     "output_type": "stream",
     "text": [
      "Your credentails:\n",
      "CLIENT_ID: HAHAHAHA\n",
      "CLIENT_SECRET:HAHAHAHA\n"
     ]
    }
   ],
   "source": [
    "CLIENT_ID = 'HAHAHAHA' # use your own Foursquare ID\n",
    "CLIENT_SECRET = 'HAHAHAHA' # use your own Foursquare Secret\n",
    "VERSION = '20200203'\n",
    "radius = 500\n",
    "LIMIT = 30\n",
    "print('Your credentails:')\n",
    "print('CLIENT_ID: ' + CLIENT_ID)\n",
    "print('CLIENT_SECRET:' + CLIENT_SECRET)"
   ]
  },
  {
   "cell_type": "markdown",
   "metadata": {},
   "source": [
    "##### form the query query request url"
   ]
  },
  {
   "cell_type": "code",
   "execution_count": 36,
   "metadata": {},
   "outputs": [
    {
     "data": {
      "text/plain": [
       "'https://api.foursquare.com/v2/venues/explore?client_id=HAHAHAHA&client_secret=HAHAHAHA&ll=37.780786,-122.48357&v=20200203&radius=500&limit=30'"
      ]
     },
     "execution_count": 36,
     "metadata": {},
     "output_type": "execute_result"
    }
   ],
   "source": [
    "url = 'https://api.foursquare.com/v2/venues/explore?client_id={}&client_secret={}&ll={},{}&v={}&radius={}&limit={}'.format(CLIENT_ID, CLIENT_SECRET, latitude, longitude, VERSION, radius, LIMIT)\n",
    "url"
   ]
  },
  {
   "cell_type": "code",
   "execution_count": 26,
   "metadata": {},
   "outputs": [],
   "source": [
    "import requests"
   ]
  },
  {
   "cell_type": "code",
   "execution_count": 27,
   "metadata": {},
   "outputs": [
    {
     "data": {
      "text/plain": [
       "'There are 30 around Ecco restaurant.'"
      ]
     },
     "execution_count": 27,
     "metadata": {},
     "output_type": "execute_result"
    }
   ],
   "source": [
    "results = requests.get(url).json()\n",
    "'There are {} around Ecco restaurant.'.format(len(results['response']['groups'][0]['items']))"
   ]
  },
  {
   "cell_type": "code",
   "execution_count": 28,
   "metadata": {},
   "outputs": [
    {
     "data": {
      "text/plain": [
       "{'reasons': {'count': 0,\n",
       "  'items': [{'summary': 'This spot is popular',\n",
       "    'type': 'general',\n",
       "    'reasonName': 'globalInteractionReason'}]},\n",
       " 'venue': {'id': '5dabf0942ab63a0007650772',\n",
       "  'name': 'Aziza Restaurant',\n",
       "  'location': {'address': '5800 Geary Blvd',\n",
       "   'lat': 37.780335,\n",
       "   'lng': -122.481575,\n",
       "   'labeledLatLngs': [{'label': 'display',\n",
       "     'lat': 37.780335,\n",
       "     'lng': -122.481575}],\n",
       "   'distance': 182,\n",
       "   'postalCode': '94121',\n",
       "   'cc': 'US',\n",
       "   'city': 'San Francisco',\n",
       "   'state': 'CA',\n",
       "   'country': 'United States',\n",
       "   'formattedAddress': ['5800 Geary Blvd',\n",
       "    'San Francisco, CA 94121',\n",
       "    'United States']},\n",
       "  'categories': [{'id': '4bf58dd8d48988d1c3941735',\n",
       "    'name': 'Moroccan Restaurant',\n",
       "    'pluralName': 'Moroccan Restaurants',\n",
       "    'shortName': 'Moroccan',\n",
       "    'icon': {'prefix': 'https://ss3.4sqi.net/img/categories_v2/food/moroccan_',\n",
       "     'suffix': '.png'},\n",
       "    'primary': True}],\n",
       "  'photos': {'count': 0, 'groups': []}},\n",
       " 'referralId': 'e-0-5dabf0942ab63a0007650772-0'}"
      ]
     },
     "execution_count": 28,
     "metadata": {},
     "output_type": "execute_result"
    }
   ],
   "source": [
    "items = results['response']['groups'][0]['items']\n",
    "items[0]"
   ]
  },
  {
   "cell_type": "markdown",
   "metadata": {},
   "source": [
    "##### Let's retrieve the venue's information nearby"
   ]
  },
  {
   "cell_type": "code",
   "execution_count": 29,
   "metadata": {},
   "outputs": [
    {
     "data": {
      "text/html": [
       "<div>\n",
       "<style scoped>\n",
       "    .dataframe tbody tr th:only-of-type {\n",
       "        vertical-align: middle;\n",
       "    }\n",
       "\n",
       "    .dataframe tbody tr th {\n",
       "        vertical-align: top;\n",
       "    }\n",
       "\n",
       "    .dataframe thead th {\n",
       "        text-align: right;\n",
       "    }\n",
       "</style>\n",
       "<table border=\"1\" class=\"dataframe\">\n",
       "  <thead>\n",
       "    <tr style=\"text-align: right;\">\n",
       "      <th></th>\n",
       "      <th>name</th>\n",
       "      <th>categories</th>\n",
       "      <th>address</th>\n",
       "      <th>lat</th>\n",
       "      <th>lng</th>\n",
       "      <th>labeledLatLngs</th>\n",
       "      <th>distance</th>\n",
       "      <th>postalCode</th>\n",
       "      <th>cc</th>\n",
       "      <th>city</th>\n",
       "      <th>state</th>\n",
       "      <th>country</th>\n",
       "      <th>formattedAddress</th>\n",
       "      <th>crossStreet</th>\n",
       "      <th>neighborhood</th>\n",
       "      <th>id</th>\n",
       "    </tr>\n",
       "  </thead>\n",
       "  <tbody>\n",
       "    <tr>\n",
       "      <th>0</th>\n",
       "      <td>Aziza Restaurant</td>\n",
       "      <td>Moroccan Restaurant</td>\n",
       "      <td>5800 Geary Blvd</td>\n",
       "      <td>37.780335</td>\n",
       "      <td>-122.481575</td>\n",
       "      <td>[{'label': 'display', 'lat': 37.780335, 'lng':...</td>\n",
       "      <td>182</td>\n",
       "      <td>94121</td>\n",
       "      <td>US</td>\n",
       "      <td>San Francisco</td>\n",
       "      <td>CA</td>\n",
       "      <td>United States</td>\n",
       "      <td>[5800 Geary Blvd, San Francisco, CA 94121, Uni...</td>\n",
       "      <td>NaN</td>\n",
       "      <td>NaN</td>\n",
       "      <td>5dabf0942ab63a0007650772</td>\n",
       "    </tr>\n",
       "    <tr>\n",
       "      <th>1</th>\n",
       "      <td>Fiorella</td>\n",
       "      <td>Italian Restaurant</td>\n",
       "      <td>2339 Clement St</td>\n",
       "      <td>37.781887</td>\n",
       "      <td>-122.484510</td>\n",
       "      <td>[{'label': 'display', 'lat': 37.78188735290587...</td>\n",
       "      <td>147</td>\n",
       "      <td>94121</td>\n",
       "      <td>US</td>\n",
       "      <td>San Francisco</td>\n",
       "      <td>CA</td>\n",
       "      <td>United States</td>\n",
       "      <td>[2339 Clement St, San Francisco, CA 94121, Uni...</td>\n",
       "      <td>NaN</td>\n",
       "      <td>NaN</td>\n",
       "      <td>56995964498e62132be29321</td>\n",
       "    </tr>\n",
       "    <tr>\n",
       "      <th>2</th>\n",
       "      <td>PPQ Dungeness Island</td>\n",
       "      <td>Seafood Restaurant</td>\n",
       "      <td>2332 Clement St</td>\n",
       "      <td>37.782104</td>\n",
       "      <td>-122.484461</td>\n",
       "      <td>[{'label': 'display', 'lat': 37.78210375510667...</td>\n",
       "      <td>166</td>\n",
       "      <td>94121</td>\n",
       "      <td>US</td>\n",
       "      <td>San Francisco</td>\n",
       "      <td>CA</td>\n",
       "      <td>United States</td>\n",
       "      <td>[2332 Clement St (at 24th Ave), San Francisco,...</td>\n",
       "      <td>at 24th Ave</td>\n",
       "      <td>Outer Richmond</td>\n",
       "      <td>42ec1480f964a520a1261fe3</td>\n",
       "    </tr>\n",
       "    <tr>\n",
       "      <th>3</th>\n",
       "      <td>Seakor Polish Deli &amp; European Foods</td>\n",
       "      <td>Deli / Bodega</td>\n",
       "      <td>5957 Geary Blvd</td>\n",
       "      <td>37.780034</td>\n",
       "      <td>-122.483553</td>\n",
       "      <td>[{'label': 'display', 'lat': 37.78003365266694...</td>\n",
       "      <td>83</td>\n",
       "      <td>94121</td>\n",
       "      <td>US</td>\n",
       "      <td>San Francisco</td>\n",
       "      <td>CA</td>\n",
       "      <td>United States</td>\n",
       "      <td>[5957 Geary Blvd (at 24th Ave), San Francisco,...</td>\n",
       "      <td>at 24th Ave</td>\n",
       "      <td>Outer Richmond</td>\n",
       "      <td>4af5d67ff964a52094fd21e3</td>\n",
       "    </tr>\n",
       "    <tr>\n",
       "      <th>4</th>\n",
       "      <td>Richmond Nail Salon</td>\n",
       "      <td>Cosmetics Shop</td>\n",
       "      <td>5856 Geary Blvd</td>\n",
       "      <td>37.780252</td>\n",
       "      <td>-122.482486</td>\n",
       "      <td>[{'label': 'display', 'lat': 37.78025182776000...</td>\n",
       "      <td>112</td>\n",
       "      <td>94121</td>\n",
       "      <td>US</td>\n",
       "      <td>San Francisco</td>\n",
       "      <td>CA</td>\n",
       "      <td>United States</td>\n",
       "      <td>[5856 Geary Blvd (at 23rd Ave), San Francisco,...</td>\n",
       "      <td>at 23rd Ave</td>\n",
       "      <td>NaN</td>\n",
       "      <td>4c9966e3db10b60cfa258a6d</td>\n",
       "    </tr>\n",
       "    <tr>\n",
       "      <th>5</th>\n",
       "      <td>Hodala</td>\n",
       "      <td>Taiwanese Restaurant</td>\n",
       "      <td>5801 Geary Blvd</td>\n",
       "      <td>37.780165</td>\n",
       "      <td>-122.481625</td>\n",
       "      <td>[{'label': 'display', 'lat': 37.78016542223118...</td>\n",
       "      <td>184</td>\n",
       "      <td>94121</td>\n",
       "      <td>US</td>\n",
       "      <td>San Francisco</td>\n",
       "      <td>CA</td>\n",
       "      <td>United States</td>\n",
       "      <td>[5801 Geary Blvd, San Francisco, CA 94121, Uni...</td>\n",
       "      <td>NaN</td>\n",
       "      <td>NaN</td>\n",
       "      <td>5a94cffea6ec982aa0956a51</td>\n",
       "    </tr>\n",
       "    <tr>\n",
       "      <th>6</th>\n",
       "      <td>Dragon Beaux 俏龍軒</td>\n",
       "      <td>Dim Sum Restaurant</td>\n",
       "      <td>5700 Geary Blvd</td>\n",
       "      <td>37.780470</td>\n",
       "      <td>-122.480633</td>\n",
       "      <td>[{'label': 'display', 'lat': 37.780469941427, ...</td>\n",
       "      <td>260</td>\n",
       "      <td>94121</td>\n",
       "      <td>US</td>\n",
       "      <td>San Francisco</td>\n",
       "      <td>CA</td>\n",
       "      <td>United States</td>\n",
       "      <td>[5700 Geary Blvd (at 21st Ave), San Francisco,...</td>\n",
       "      <td>at 21st Ave</td>\n",
       "      <td>NaN</td>\n",
       "      <td>54f08677498ecc627d4dfc22</td>\n",
       "    </tr>\n",
       "    <tr>\n",
       "      <th>7</th>\n",
       "      <td>Tommy's Mexican Restaurant</td>\n",
       "      <td>Mexican Restaurant</td>\n",
       "      <td>5929 Geary Blvd</td>\n",
       "      <td>37.779999</td>\n",
       "      <td>-122.483160</td>\n",
       "      <td>[{'label': 'display', 'lat': 37.77999916404445...</td>\n",
       "      <td>94</td>\n",
       "      <td>94121</td>\n",
       "      <td>US</td>\n",
       "      <td>San Francisco</td>\n",
       "      <td>CA</td>\n",
       "      <td>United States</td>\n",
       "      <td>[5929 Geary Blvd (at 23rd Ave), San Francisco,...</td>\n",
       "      <td>at 23rd Ave</td>\n",
       "      <td>NaN</td>\n",
       "      <td>3fd66200f964a520a3ec1ee3</td>\n",
       "    </tr>\n",
       "    <tr>\n",
       "      <th>8</th>\n",
       "      <td>Gordo Taqueria</td>\n",
       "      <td>Burrito Place</td>\n",
       "      <td>2252 Clement St</td>\n",
       "      <td>37.782162</td>\n",
       "      <td>-122.483655</td>\n",
       "      <td>[{'label': 'display', 'lat': 37.78216178702004...</td>\n",
       "      <td>153</td>\n",
       "      <td>94121</td>\n",
       "      <td>US</td>\n",
       "      <td>San Francisco</td>\n",
       "      <td>CA</td>\n",
       "      <td>United States</td>\n",
       "      <td>[2252 Clement St (btwn 23rd &amp; 24th Ave), San F...</td>\n",
       "      <td>btwn 23rd &amp; 24th Ave</td>\n",
       "      <td>NaN</td>\n",
       "      <td>4a062117f964a520bb721fe3</td>\n",
       "    </tr>\n",
       "    <tr>\n",
       "      <th>9</th>\n",
       "      <td>Pizzetta 211</td>\n",
       "      <td>Pizza Place</td>\n",
       "      <td>211 23rd Ave</td>\n",
       "      <td>37.783694</td>\n",
       "      <td>-122.482879</td>\n",
       "      <td>[{'label': 'display', 'lat': 37.78369393632517...</td>\n",
       "      <td>329</td>\n",
       "      <td>94121</td>\n",
       "      <td>US</td>\n",
       "      <td>San Francisco</td>\n",
       "      <td>CA</td>\n",
       "      <td>United States</td>\n",
       "      <td>[211 23rd Ave (at California St), San Francisc...</td>\n",
       "      <td>at California St</td>\n",
       "      <td>NaN</td>\n",
       "      <td>40df5f80f964a52096011fe3</td>\n",
       "    </tr>\n",
       "  </tbody>\n",
       "</table>\n",
       "</div>"
      ],
      "text/plain": [
       "                                  name            categories          address  \\\n",
       "0                     Aziza Restaurant   Moroccan Restaurant  5800 Geary Blvd   \n",
       "1                             Fiorella    Italian Restaurant  2339 Clement St   \n",
       "2                 PPQ Dungeness Island    Seafood Restaurant  2332 Clement St   \n",
       "3  Seakor Polish Deli & European Foods         Deli / Bodega  5957 Geary Blvd   \n",
       "4                  Richmond Nail Salon        Cosmetics Shop  5856 Geary Blvd   \n",
       "5                               Hodala  Taiwanese Restaurant  5801 Geary Blvd   \n",
       "6                     Dragon Beaux 俏龍軒    Dim Sum Restaurant  5700 Geary Blvd   \n",
       "7           Tommy's Mexican Restaurant    Mexican Restaurant  5929 Geary Blvd   \n",
       "8                       Gordo Taqueria         Burrito Place  2252 Clement St   \n",
       "9                         Pizzetta 211           Pizza Place     211 23rd Ave   \n",
       "\n",
       "         lat         lng                                     labeledLatLngs  \\\n",
       "0  37.780335 -122.481575  [{'label': 'display', 'lat': 37.780335, 'lng':...   \n",
       "1  37.781887 -122.484510  [{'label': 'display', 'lat': 37.78188735290587...   \n",
       "2  37.782104 -122.484461  [{'label': 'display', 'lat': 37.78210375510667...   \n",
       "3  37.780034 -122.483553  [{'label': 'display', 'lat': 37.78003365266694...   \n",
       "4  37.780252 -122.482486  [{'label': 'display', 'lat': 37.78025182776000...   \n",
       "5  37.780165 -122.481625  [{'label': 'display', 'lat': 37.78016542223118...   \n",
       "6  37.780470 -122.480633  [{'label': 'display', 'lat': 37.780469941427, ...   \n",
       "7  37.779999 -122.483160  [{'label': 'display', 'lat': 37.77999916404445...   \n",
       "8  37.782162 -122.483655  [{'label': 'display', 'lat': 37.78216178702004...   \n",
       "9  37.783694 -122.482879  [{'label': 'display', 'lat': 37.78369393632517...   \n",
       "\n",
       "   distance postalCode  cc           city state        country  \\\n",
       "0       182      94121  US  San Francisco    CA  United States   \n",
       "1       147      94121  US  San Francisco    CA  United States   \n",
       "2       166      94121  US  San Francisco    CA  United States   \n",
       "3        83      94121  US  San Francisco    CA  United States   \n",
       "4       112      94121  US  San Francisco    CA  United States   \n",
       "5       184      94121  US  San Francisco    CA  United States   \n",
       "6       260      94121  US  San Francisco    CA  United States   \n",
       "7        94      94121  US  San Francisco    CA  United States   \n",
       "8       153      94121  US  San Francisco    CA  United States   \n",
       "9       329      94121  US  San Francisco    CA  United States   \n",
       "\n",
       "                                    formattedAddress           crossStreet  \\\n",
       "0  [5800 Geary Blvd, San Francisco, CA 94121, Uni...                   NaN   \n",
       "1  [2339 Clement St, San Francisco, CA 94121, Uni...                   NaN   \n",
       "2  [2332 Clement St (at 24th Ave), San Francisco,...           at 24th Ave   \n",
       "3  [5957 Geary Blvd (at 24th Ave), San Francisco,...           at 24th Ave   \n",
       "4  [5856 Geary Blvd (at 23rd Ave), San Francisco,...           at 23rd Ave   \n",
       "5  [5801 Geary Blvd, San Francisco, CA 94121, Uni...                   NaN   \n",
       "6  [5700 Geary Blvd (at 21st Ave), San Francisco,...           at 21st Ave   \n",
       "7  [5929 Geary Blvd (at 23rd Ave), San Francisco,...           at 23rd Ave   \n",
       "8  [2252 Clement St (btwn 23rd & 24th Ave), San F...  btwn 23rd & 24th Ave   \n",
       "9  [211 23rd Ave (at California St), San Francisc...      at California St   \n",
       "\n",
       "     neighborhood                        id  \n",
       "0             NaN  5dabf0942ab63a0007650772  \n",
       "1             NaN  56995964498e62132be29321  \n",
       "2  Outer Richmond  42ec1480f964a520a1261fe3  \n",
       "3  Outer Richmond  4af5d67ff964a52094fd21e3  \n",
       "4             NaN  4c9966e3db10b60cfa258a6d  \n",
       "5             NaN  5a94cffea6ec982aa0956a51  \n",
       "6             NaN  54f08677498ecc627d4dfc22  \n",
       "7             NaN  3fd66200f964a520a3ec1ee3  \n",
       "8             NaN  4a062117f964a520bb721fe3  \n",
       "9             NaN  40df5f80f964a52096011fe3  "
      ]
     },
     "execution_count": 29,
     "metadata": {},
     "output_type": "execute_result"
    }
   ],
   "source": [
    "from pandas.io.json import json_normalize\n",
    "\n",
    "# function that extracts the category of the venue\n",
    "def get_category_type(row):\n",
    "    try:\n",
    "        categories_list = row['categories']\n",
    "    except:\n",
    "        categories_list = row['venue.categories']\n",
    "        \n",
    "    if len(categories_list) == 0:\n",
    "        return None\n",
    "    else:\n",
    "        return categories_list[0]['name']\n",
    "\n",
    "dataframe = json_normalize(items) # flatten JSON\n",
    "\n",
    "# filter columns\n",
    "filtered_columns = ['venue.name', 'venue.categories'] + [col for col in dataframe.columns if col.startswith('venue.location.')] + ['venue.id']\n",
    "dataframe_filtered = dataframe.loc[:, filtered_columns]\n",
    "\n",
    "# filter the category for each row\n",
    "dataframe_filtered['venue.categories'] = dataframe_filtered.apply(get_category_type, axis=1)\n",
    "\n",
    "# clean columns\n",
    "dataframe_filtered.columns = [col.split('.')[-1] for col in dataframe_filtered.columns]\n",
    "\n",
    "dataframe_filtered.head(10)"
   ]
  },
  {
   "cell_type": "markdown",
   "metadata": {},
   "source": [
    "#### Let's visualize these venues on the map around our location"
   ]
  },
  {
   "cell_type": "code",
   "execution_count": 30,
   "metadata": {
    "scrolled": true
   },
   "outputs": [
    {
     "data": {
      "text/html": [
       "<div style=\"width:100%;\"><div style=\"position:relative;width:100%;height:0;padding-bottom:60%;\"><iframe src=\"data:text/html;charset=utf-8;base64,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\" style=\"position:absolute;width:100%;height:100%;left:0;top:0;border:none !important;\" allowfullscreen webkitallowfullscreen mozallowfullscreen></iframe></div></div>"
      ],
      "text/plain": [
       "<folium.folium.Map at 0x1931d7ce278>"
      ]
     },
     "execution_count": 30,
     "metadata": {},
     "output_type": "execute_result"
    }
   ],
   "source": [
    "import folium\n",
    "venues_map = folium.Map(location=[latitude, longitude], zoom_start=13) # generate map centred around the Conrad Hotel\n",
    "\n",
    "# add a red circle marker to represent the Central Richmond\n",
    "folium.CircleMarker(\n",
    "    [latitude, longitude],\n",
    "    radius=10,\n",
    "    color='red',\n",
    "    popup='Central Richmond',\n",
    "    fill = True,\n",
    "    fill_color = 'red',\n",
    "    fill_opacity = 0.6\n",
    ").add_to(venues_map)\n",
    "\n",
    "# add the retrieved restaurants as blue circle markers\n",
    "for lat, lng, label in zip(dataframe_filtered.lat, dataframe_filtered.lng, dataframe_filtered.categories):\n",
    "    folium.CircleMarker(\n",
    "        [lat, lng],\n",
    "        radius=5,\n",
    "        color='blue',\n",
    "        popup=label,\n",
    "        fill = True,\n",
    "        fill_color='blue',\n",
    "        fill_opacity=0.6\n",
    "    ).add_to(venues_map)\n",
    "\n",
    "# display map\n",
    "venues_map"
   ]
  },
  {
   "cell_type": "markdown",
   "metadata": {},
   "source": [
    "##### Let's look up the ratings of these shops "
   ]
  },
  {
   "cell_type": "code",
   "execution_count": 31,
   "metadata": {},
   "outputs": [
    {
     "name": "stdout",
     "output_type": "stream",
     "text": [
      "Aziza Restaurant has a rating of 9.1\n",
      "Fiorella has a rating of 8.9\n",
      "PPQ Dungeness Island has a rating of 8.6\n",
      "Seakor Polish Deli & European Foods has a rating of 8.3\n",
      "Richmond Nail Salon has a rating of 8.2\n",
      "Hodala has a rating of 8.1\n",
      "Dragon Beaux 俏龍軒 has a rating of 8.4\n",
      "Tommy's Mexican Restaurant has a rating of 8.0\n",
      "Gordo Taqueria has a rating of 8.0\n",
      "Pizzetta 211 has a rating of 9.2\n",
      "Royal Ground Coffee House has a rating of 7.8\n",
      "Daigo Sushi has a rating of 7.9\n",
      "Pearl has a rating of 8.6\n",
      "Ton Kiang has a rating of 7.7\n",
      "Home has a rating of 8.1\n",
      "Clement Nursery has a rating of 8.5\n",
      "Blackwell's Wines and Spirits has a rating of 8.3\n",
      "Hard Knox Cafe has a rating of 7.8\n",
      "Turtle Tower Restaurant has a rating of 7.7\n",
      "Red Tavern has a rating of 7.5\n",
      "Bambu Desserts & Drinks has a rating of 7.4\n",
      "4 Star Theatre has a rating of 7.4\n",
      "Moscow & Tbilisi Russian Bakery has a rating of 8.3\n",
      "La Vie has a rating of 7.4\n",
      "Violet’s has a rating of 7.4\n",
      "Lokma has a rating of 8.5\n",
      "Jang Soo BBQ has a rating of 7.7\n",
      "Ilana Coffee has a rating of 7.2\n",
      "Cafe Enchante has a rating of 7.2\n",
      "25th & Clement Produce Market has a rating of 7.2\n"
     ]
    }
   ],
   "source": [
    "venue_id_list=[results['response']['groups'][0]['items'][i]['venue']['id'] for i in range(LIMIT)]\n",
    "for i,venue_id in enumerate(venue_id_list):\n",
    "    url = 'https://api.foursquare.com/v2/venues/{}?client_id={}&client_secret={}&v={}'.format(venue_id, CLIENT_ID, CLIENT_SECRET, VERSION)\n",
    "\n",
    "    result = requests.get(url).json()\n",
    "    try:\n",
    "        print('%s has a rating of %.1f' % (results['response']['groups'][0]['items'][i]['venue']['name'],result['response']['venue']['rating']))\n",
    "    except:\n",
    "        print('This venue has not been rated yet.')"
   ]
  },
  {
   "cell_type": "markdown",
   "metadata": {},
   "source": [
    "##### We can see that Pizzetta 211 has the highest rating, let's explore it further."
   ]
  },
  {
   "cell_type": "code",
   "execution_count": 32,
   "metadata": {},
   "outputs": [
    {
     "data": {
      "text/plain": [
       "92"
      ]
     },
     "execution_count": 32,
     "metadata": {},
     "output_type": "execute_result"
    }
   ],
   "source": [
    "venue_id = '40df5f80f964a52096011fe3' # ID of Pizzetta 211\n",
    "url = 'https://api.foursquare.com/v2/venues/{}?client_id={}&client_secret={}&v={}'.format(venue_id, CLIENT_ID, CLIENT_SECRET, VERSION)\n",
    "\n",
    "result = requests.get(url).json()\n",
    "#count number of tips\n",
    "result['response']['venue']['tips']['count']"
   ]
  },
  {
   "cell_type": "code",
   "execution_count": 33,
   "metadata": {},
   "outputs": [],
   "source": [
    "## Ecco Tips\n",
    "limit = 30 # set number of tips to retrieve from foursquare service\n",
    "url = 'https://api.foursquare.com/v2/venues/{}/tips?client_id={}&client_secret={}&v={}&limit={}'.format(venue_id, CLIENT_ID, CLIENT_SECRET, VERSION, limit)\n",
    "\n",
    "results = requests.get(url).json()"
   ]
  },
  {
   "cell_type": "markdown",
   "metadata": {},
   "source": [
    "##### Explore some review of Pizzetta 211"
   ]
  },
  {
   "cell_type": "code",
   "execution_count": 34,
   "metadata": {},
   "outputs": [
    {
     "name": "stderr",
     "output_type": "stream",
     "text": [
      "C:\\Users\\gaoji_000\\Anaconda2\\envs\\Python36\\lib\\site-packages\\pandas\\core\\indexing.py:1404: FutureWarning: \n",
      "Passing list-likes to .loc or [] with any missing label will raise\n",
      "KeyError in the future, you can use .reindex() as an alternative.\n",
      "\n",
      "See the documentation here:\n",
      "https://pandas.pydata.org/pandas-docs/stable/user_guide/indexing.html#deprecate-loc-reindex-listlike\n",
      "  return self._getitem_tuple(key)\n"
     ]
    },
    {
     "data": {
      "text/html": [
       "<div>\n",
       "<style scoped>\n",
       "    .dataframe tbody tr th:only-of-type {\n",
       "        vertical-align: middle;\n",
       "    }\n",
       "\n",
       "    .dataframe tbody tr th {\n",
       "        vertical-align: top;\n",
       "    }\n",
       "\n",
       "    .dataframe thead th {\n",
       "        text-align: right;\n",
       "    }\n",
       "</style>\n",
       "<table border=\"1\" class=\"dataframe\">\n",
       "  <thead>\n",
       "    <tr style=\"text-align: right;\">\n",
       "      <th></th>\n",
       "      <th>text</th>\n",
       "      <th>agreeCount</th>\n",
       "      <th>disagreeCount</th>\n",
       "      <th>id</th>\n",
       "      <th>user.firstName</th>\n",
       "      <th>user.lastName</th>\n",
       "      <th>user.gender</th>\n",
       "      <th>user.id</th>\n",
       "    </tr>\n",
       "  </thead>\n",
       "  <tbody>\n",
       "    <tr>\n",
       "      <th>0</th>\n",
       "      <td>Delicious personal pizzas, usually they have one or two on the menu with farm egg - yum! The wait for sit down is long, so consider ordering to go!</td>\n",
       "      <td>4</td>\n",
       "      <td>0</td>\n",
       "      <td>584308132e9fde4e367ee38f</td>\n",
       "      <td>Kate</td>\n",
       "      <td>A</td>\n",
       "      <td>NaN</td>\n",
       "      <td>58597848</td>\n",
       "    </tr>\n",
       "    <tr>\n",
       "      <th>1</th>\n",
       "      <td>The white bean, artichoke salad w/ arugula is delish if they have it as a special. Sitting outside is nice on a sunny day. And they have Unti Barbera by the glass which you don't find at many places!</td>\n",
       "      <td>2</td>\n",
       "      <td>0</td>\n",
       "      <td>53261ee011d2596f0052b58b</td>\n",
       "      <td>Marina</td>\n",
       "      <td>C</td>\n",
       "      <td>NaN</td>\n",
       "      <td>2485273</td>\n",
       "    </tr>\n",
       "  </tbody>\n",
       "</table>\n",
       "</div>"
      ],
      "text/plain": [
       "                                                                                                                                                                                                      text  \\\n",
       "0  Delicious personal pizzas, usually they have one or two on the menu with farm egg - yum! The wait for sit down is long, so consider ordering to go!                                                       \n",
       "1  The white bean, artichoke salad w/ arugula is delish if they have it as a special. Sitting outside is nice on a sunny day. And they have Unti Barbera by the glass which you don't find at many places!   \n",
       "\n",
       "   agreeCount  disagreeCount                        id user.firstName  \\\n",
       "0  4           0              584308132e9fde4e367ee38f  Kate            \n",
       "1  2           0              53261ee011d2596f0052b58b  Marina          \n",
       "\n",
       "  user.lastName  user.gender   user.id  \n",
       "0  A            NaN           58597848  \n",
       "1  C            NaN           2485273   "
      ]
     },
     "execution_count": 34,
     "metadata": {},
     "output_type": "execute_result"
    }
   ],
   "source": [
    "pd.set_option('display.max_colwidth', -1)\n",
    "\n",
    "tips = results['response']['tips']['items']\n",
    "tips_df = json_normalize(tips) # json normalize tips\n",
    "\n",
    "# columns to keep\n",
    "filtered_columns = ['text', 'agreeCount', 'disagreeCount', 'id', 'user.firstName', 'user.lastName', 'user.gender', 'user.id']\n",
    "tips_filtered = tips_df.loc[:, filtered_columns]\n",
    "\n",
    "# display tips\n",
    "tips_filtered\n",
    "\n",
    "# Since I am using a personal developer account, \n",
    "# then I can access only 2 of the restaurant's tips, instead of all 30 tips."
   ]
  },
  {
   "cell_type": "markdown",
   "metadata": {},
   "source": [
    "#### Seems pretty good, I will buy piazza from this shop during my stay in SF"
   ]
  },
  {
   "cell_type": "markdown",
   "metadata": {},
   "source": [
    "# <a id='4'>4. Conclusion</a>"
   ]
  },
  {
   "cell_type": "markdown",
   "metadata": {},
   "source": [
    "In this notebook we performmed an anakysis of a large-sized data set of SF crimes using Spark and Spark SQL.\n",
    "\n",
    "<br>We explored and provided some useful findings including SF top-3 common crimes, SF top-3 danger districts, number of crimes around downtown SF, hours (time) for particular dates, and resolved & unresolved percentages for different crime categories, etc.\n",
    "\n",
    "<br>Based on our results, we suggest that advertisings on safety topics are needed to raise awareness primarily among residents in SOUTHERN, MISSION, and NORTHERN districts.Furthermore, police officers should focus more on cimes with high unsolved percentage like RECOVERED VEHICLE, VEHICLE THEFT, and LARCENY/THEFT. In general, we suggest tourists should avoid visiting the city or walking around the streets at night, because the chances of being involved in a crime are higher than that during other daytime. In addition, tourists should pay extra attention during holidays and VEHICLE related crimes.\n",
    "\n",
    "<br>Lastly, we explored some of the venues in the most safe district (the RICHMOND district) of SF using Foursuqare API, we extract the ratings and reviews of those venues and we recommand some of the shops with high ratings. Also we visualized those venues on the Map using Folium API.\n",
    "\n"
   ]
  },
  {
   "cell_type": "code",
   "execution_count": null,
   "metadata": {},
   "outputs": [],
   "source": []
  }
 ],
 "metadata": {
  "kernelspec": {
   "display_name": "Python 3",
   "language": "python",
   "name": "python3"
  },
  "language_info": {
   "codemirror_mode": {
    "name": "ipython",
    "version": 3
   },
   "file_extension": ".py",
   "mimetype": "text/x-python",
   "name": "python",
   "nbconvert_exporter": "python",
   "pygments_lexer": "ipython3",
   "version": "3.6.9"
  },
  "name": "SF Crime Analysis Using Spark SQL",
  "notebookId": 3031262499237464
 },
 "nbformat": 4,
 "nbformat_minor": 1
}
